{
 "cells": [
  {
   "cell_type": "code",
   "execution_count": 1,
   "id": "6b39d777",
   "metadata": {},
   "outputs": [],
   "source": [
    "import pandas as pd\n",
    "import json\n",
    "import matplotlib.pyplot as plt\n",
    "import string\n",
    "import nltk\n",
    "import string\n",
    "import re\n",
    "from nltk.corpus import stopwords\n",
    "from sklearn.model_selection import train_test_split, GridSearchCV\n",
    "from sklearn.feature_extraction.text import TfidfVectorizer\n",
    "from sklearn.pipeline import make_pipeline\n",
    "from sklearn.linear_model import LogisticRegression\n",
    "from sklearn.ensemble import RandomForestClassifier\n",
    "from sklearn.naive_bayes import MultinomialNB\n",
    "from sklearn.svm import SVC\n",
    "from sklearn.metrics import confusion_matrix,accuracy_score, classification_report"
   ]
  },
  {
   "cell_type": "code",
   "execution_count": 2,
   "id": "e73d3e6f",
   "metadata": {},
   "outputs": [],
   "source": [
    "df = pd.read_csv('Ournews')"
   ]
  },
  {
   "cell_type": "code",
   "execution_count": 3,
   "id": "4f2a4acf",
   "metadata": {},
   "outputs": [],
   "source": [
    "df.drop(columns= ['Unnamed: 0', 'url', 'date_extracted', 'author'], inplace= True)"
   ]
  },
  {
   "cell_type": "code",
   "execution_count": 4,
   "id": "57ab08d7",
   "metadata": {
    "scrolled": false
   },
   "outputs": [
    {
     "data": {
      "text/html": [
       "<div>\n",
       "<style scoped>\n",
       "    .dataframe tbody tr th:only-of-type {\n",
       "        vertical-align: middle;\n",
       "    }\n",
       "\n",
       "    .dataframe tbody tr th {\n",
       "        vertical-align: top;\n",
       "    }\n",
       "\n",
       "    .dataframe thead th {\n",
       "        text-align: right;\n",
       "    }\n",
       "</style>\n",
       "<table border=\"1\" class=\"dataframe\">\n",
       "  <thead>\n",
       "    <tr style=\"text-align: right;\">\n",
       "      <th></th>\n",
       "      <th>source</th>\n",
       "      <th>title</th>\n",
       "      <th>content</th>\n",
       "    </tr>\n",
       "  </thead>\n",
       "  <tbody>\n",
       "    <tr>\n",
       "      <th>0</th>\n",
       "      <td>aawsat</td>\n",
       "      <td>بريطانيا: أربعة محاور لاستراتيجية جديدة تتصدى ...</td>\n",
       "      <td>حدد رئيس الوزراء البريطاني ديفيد كاميرون، اليو...</td>\n",
       "    </tr>\n",
       "    <tr>\n",
       "      <th>1</th>\n",
       "      <td>aawsat</td>\n",
       "      <td>الرئيس هادي يعين نايف البكري محافظا لعدن</td>\n",
       "      <td>أصدر الرئيس عبدربه منصور هادي رئيس الجمهورية ا...</td>\n",
       "    </tr>\n",
       "    <tr>\n",
       "      <th>2</th>\n",
       "      <td>aawsat</td>\n",
       "      <td>مجلس الأمن يصادق على «الاتفاق النووي».. وإيران...</td>\n",
       "      <td>وافق مجلس الأمن الدولي، اليوم (الاثنين)، على ا...</td>\n",
       "    </tr>\n",
       "    <tr>\n",
       "      <th>3</th>\n",
       "      <td>aawsat</td>\n",
       "      <td>«نيران صديقة» أميركية تودي بحياة 14 جنديا أفغانيا</td>\n",
       "      <td>قال مسؤولون أفغان ان 14 جنديا أفغانيا قتلوا في...</td>\n",
       "    </tr>\n",
       "    <tr>\n",
       "      <th>4</th>\n",
       "      <td>aawsat</td>\n",
       "      <td>الخارجية الإيطالية: أربعة من مواطنينا مخطوفون ...</td>\n",
       "      <td>أعلنت وزارة الخارجية الايطالية، اليوم (الاثنين...</td>\n",
       "    </tr>\n",
       "    <tr>\n",
       "      <th>...</th>\n",
       "      <td>...</td>\n",
       "      <td>...</td>\n",
       "      <td>...</td>\n",
       "    </tr>\n",
       "    <tr>\n",
       "      <th>31025</th>\n",
       "      <td>was</td>\n",
       "      <td>عام / وزير الشؤون البلدية يوجه بإنشاء مكاتب لإ...</td>\n",
       "      <td>الرياض 26 شوال 1436 هـ الموافق 11 اغسطس 2015 ...</td>\n",
       "    </tr>\n",
       "    <tr>\n",
       "      <th>31026</th>\n",
       "      <td>was</td>\n",
       "      <td>عام / هيئة الإغاثة تصف أوضاع اللاجئين الهاربين...</td>\n",
       "      <td>جدة 26 شوال 1436 هـ الموافق 11 أغسطس 2015 م و...</td>\n",
       "    </tr>\n",
       "    <tr>\n",
       "      <th>31027</th>\n",
       "      <td>was</td>\n",
       "      <td>عام / المشرف العام على مركز الملك سلمان للإغاث...</td>\n",
       "      <td>الرياض 26 شوال 1436 هـ الموافق 11 أغسطس 2015 ...</td>\n",
       "    </tr>\n",
       "    <tr>\n",
       "      <th>31028</th>\n",
       "      <td>was</td>\n",
       "      <td>رياضي / أخضر الطائرة في مواجهة مرتقبة أمام الج...</td>\n",
       "      <td>الرياض 26 شوال 1436 هـ الموافق 11 أغسطس 2015 ...</td>\n",
       "    </tr>\n",
       "    <tr>\n",
       "      <th>31029</th>\n",
       "      <td>was</td>\n",
       "      <td>اقتصادي / الأسهم الباكستانية تغلق على ارتفاع ب...</td>\n",
       "      <td>إسلام آباد 26 شوال 1436 هـ الموافق 11 اغسطس 2...</td>\n",
       "    </tr>\n",
       "  </tbody>\n",
       "</table>\n",
       "<p>31030 rows × 3 columns</p>\n",
       "</div>"
      ],
      "text/plain": [
       "       source                                              title  \\\n",
       "0      aawsat  بريطانيا: أربعة محاور لاستراتيجية جديدة تتصدى ...   \n",
       "1      aawsat           الرئيس هادي يعين نايف البكري محافظا لعدن   \n",
       "2      aawsat  مجلس الأمن يصادق على «الاتفاق النووي».. وإيران...   \n",
       "3      aawsat  «نيران صديقة» أميركية تودي بحياة 14 جنديا أفغانيا   \n",
       "4      aawsat  الخارجية الإيطالية: أربعة من مواطنينا مخطوفون ...   \n",
       "...       ...                                                ...   \n",
       "31025     was  عام / وزير الشؤون البلدية يوجه بإنشاء مكاتب لإ...   \n",
       "31026     was  عام / هيئة الإغاثة تصف أوضاع اللاجئين الهاربين...   \n",
       "31027     was  عام / المشرف العام على مركز الملك سلمان للإغاث...   \n",
       "31028     was  رياضي / أخضر الطائرة في مواجهة مرتقبة أمام الج...   \n",
       "31029     was  اقتصادي / الأسهم الباكستانية تغلق على ارتفاع ب...   \n",
       "\n",
       "                                                 content  \n",
       "0      حدد رئيس الوزراء البريطاني ديفيد كاميرون، اليو...  \n",
       "1      أصدر الرئيس عبدربه منصور هادي رئيس الجمهورية ا...  \n",
       "2      وافق مجلس الأمن الدولي، اليوم (الاثنين)، على ا...  \n",
       "3      قال مسؤولون أفغان ان 14 جنديا أفغانيا قتلوا في...  \n",
       "4      أعلنت وزارة الخارجية الايطالية، اليوم (الاثنين...  \n",
       "...                                                  ...  \n",
       "31025   الرياض 26 شوال 1436 هـ الموافق 11 اغسطس 2015 ...  \n",
       "31026   جدة 26 شوال 1436 هـ الموافق 11 أغسطس 2015 م و...  \n",
       "31027   الرياض 26 شوال 1436 هـ الموافق 11 أغسطس 2015 ...  \n",
       "31028   الرياض 26 شوال 1436 هـ الموافق 11 أغسطس 2015 ...  \n",
       "31029   إسلام آباد 26 شوال 1436 هـ الموافق 11 اغسطس 2...  \n",
       "\n",
       "[31030 rows x 3 columns]"
      ]
     },
     "execution_count": 4,
     "metadata": {},
     "output_type": "execute_result"
    }
   ],
   "source": [
    "df"
   ]
  },
  {
   "cell_type": "code",
   "execution_count": 5,
   "id": "44a3f989",
   "metadata": {},
   "outputs": [
    {
     "name": "stdout",
     "output_type": "stream",
     "text": [
      "<class 'pandas.core.frame.DataFrame'>\n",
      "RangeIndex: 31030 entries, 0 to 31029\n",
      "Data columns (total 3 columns):\n",
      " #   Column   Non-Null Count  Dtype \n",
      "---  ------   --------------  ----- \n",
      " 0   source   31030 non-null  object\n",
      " 1   title    30963 non-null  object\n",
      " 2   content  30897 non-null  object\n",
      "dtypes: object(3)\n",
      "memory usage: 727.4+ KB\n"
     ]
    }
   ],
   "source": [
    "df.info()"
   ]
  },
  {
   "cell_type": "code",
   "execution_count": 6,
   "id": "a59b35de",
   "metadata": {},
   "outputs": [
    {
     "data": {
      "text/plain": [
       "604"
      ]
     },
     "execution_count": 6,
     "metadata": {},
     "output_type": "execute_result"
    }
   ],
   "source": [
    "df.duplicated().sum()"
   ]
  },
  {
   "cell_type": "code",
   "execution_count": 7,
   "id": "d09242d7",
   "metadata": {},
   "outputs": [],
   "source": [
    "df.drop_duplicates(inplace = True)"
   ]
  },
  {
   "cell_type": "code",
   "execution_count": 8,
   "id": "f714c304",
   "metadata": {},
   "outputs": [
    {
     "data": {
      "text/plain": [
       "0"
      ]
     },
     "execution_count": 8,
     "metadata": {},
     "output_type": "execute_result"
    }
   ],
   "source": [
    "df.duplicated().sum()"
   ]
  },
  {
   "cell_type": "code",
   "execution_count": 9,
   "id": "5d87e389",
   "metadata": {},
   "outputs": [
    {
     "data": {
      "text/plain": [
       "33687.0"
      ]
     },
     "execution_count": 9,
     "metadata": {},
     "output_type": "execute_result"
    }
   ],
   "source": [
    "max(df.content.str.len())"
   ]
  },
  {
   "cell_type": "code",
   "execution_count": 10,
   "id": "0fa90110",
   "metadata": {},
   "outputs": [
    {
     "data": {
      "text/plain": [
       "1.0"
      ]
     },
     "execution_count": 10,
     "metadata": {},
     "output_type": "execute_result"
    }
   ],
   "source": [
    "min(df.content.str.len())"
   ]
  },
  {
   "cell_type": "code",
   "execution_count": 11,
   "id": "e17113f2",
   "metadata": {},
   "outputs": [
    {
     "data": {
      "text/plain": [
       "array(['حدد رئيس الوزراء البريطاني ديفيد كاميرون، اليوم (الاثنين)، ملامح استراتيجية للتصدي للتطرف داخل بريطانيا؛ وهي مسألة اعتبرها كاميرون \"صراع جيلنا\"، متعهدا خلال خطابه في مدينة بيرمنغهام بالتصدي لهؤلاء الذين ينشرون التطرف بين الشبان المسلمين البريطانيين.\\n\\n ورسم كاميرون الاطار العام لاستراتيجية مكافحة التطرف التي المقرر ان تنشر كاملة في وقت لاحق هذا العام، والتي تسعى للتصدي لانتشار الأفكار المتطرفة التي يروج لها متشددو تنظيم \"داعش\".\\n\\n وحسبما تناقلت وسائل الإعلام البريطانية، فإن خطة رئيس الوزراء ستكون على مدى خمسة أعوام للقضاء على التطرف الداخلي من خلال أربعة محاور، وهي: القضاء على إيديولوجية التطرف، والوقوف في وجه عمليات التجنيد وغسل الأدمغة بالأفكار المتطرفة، وإعادة اصوات الاسلام المعتدل إلى المجتمع البريطاني، والتعامل مع أزمات الهوية التي يواجهها بعض المسلمين المولودين في بريطانيا.\\n\\n وسيكون من الأهداف الرئيسية للاستراتيجية مكافحة صعود من يطلق عليهم اسم \"متطرفي الداخل\"، وهو أمر يقول كاميرون انه لا يمكن عمله دون فهم الاسباب التي تجتذب الناس لـ\"داعش\" والتصدي لها. إذ قال كاميرون في سياق خطابه، \"عندما تسعى مجموعات متطرفة مثل داعش لحشد شبابنا لقضيتها المسمومة، فانها قد تمنحهم احساسا بالانتماء ربما يفتقرون اليه هنا في الداخل\"، واستطرد بقوله \"هذا الامر يجعلهم أكثر عرضة للتطرف\".\\n\\n كما أكد رئيس الوزراء البريطاني أن المجتمع البريطاني \"مجتمع ديمقراطي متعدد الأعراق والأديان\"، مضيفا أن \"هذا المجتمع يحتوى جميع مواطنيه\". ونوه بأنه سيعمل مع المسلمين داخل البلاد لمحاربة أفكار التطرف.\\n\\n وتضمنت استراتيجية الحكومة البريطانية مقترحات للقضاء على التطرف من خلال المحاور الأربعة المشار إليها في الأعلى وأهمها: إعطاء الصلاحية لأهالي الشباب الذين يبدون قابلية بالسفر إلى سوريا بإتلاف جوازات سفرهم، وتحفيز زيادة الاندماج في المدارس، والتطرق للتجنيد والتطرف داخل السجون وعلى شبكة الانترنت، ورصد القنوات التي تبث رسائل متطرفة وحظرها، وزيادة صلاحيات الحكومة في توقيف جماعات داخل البلاد تنشر الفكر المتطرف أو تحاول التجنيد، والاستثمار بجمعيات تحارب الفكر المتطرف عن طريق نشر الاسلام المتعدل، وتأسيس منتدى تفاعلي لمخاطبة ظاهرة التطرف وانتشارها في بريطانيا، وإعادة هيكلة آلية توزيع السكن لتفادي عزل أو انفصال المسلمين في الأحياء، وتشجيع جامعات البلاد لاستضافة ندوات مناهضة للتطرف، وغيرها.\\n\\n وفي تصريحات أمس (الأحد)، قال كاميرون، أمس، انه يريد أن تبذل بريطانيا مزيدا من الجهود لمساعدة الولايات المتحدة في تدمير تنظيم \"داعش\"، كما تقول مصادر في الحكومة ان كاميرون من المتوقع أن يسعى للحصول على موافقة البرلمان لمد مهمات قصف التنظيم الى سوريا وليس فقط في معاقله بالعراق.\\n\\n يذكر أن نحو 700 بريطاني سافروا الى سوريا والعراق للانضمام لتنظيم \"داعش\" المتطرف، كمارفعت بريطانيا مستوى التأهب للخطر الى ثاني أعلى مستوياته، ما يشير إلى جهوزية البلاد لاحتمالية وقوع هجوم مرتفع للغاية.',\n",
       "       'أصدر الرئيس عبدربه منصور هادي رئيس الجمهورية اليمنية، اليوم (الاثنين)، قراراً جمهورياً بتعيين نايف البكري محافظا لعدن، وذلك بعد الانتصارات التي حققتها قوات المقاومة الشعبية في طرد المتمردين الحوثيين من المدينة.\\n\\n نايف البكري شغل منصب وكيل محافظة عدن لشؤون المديريات من قبل، وله علاقات جيدة مع مختلف القوى السياسية في المدينة، ويعتبر الرجل الأول.\\n\\n من جهة أخرى، أعلن بدر محمد باسملة وزير النقل اليمني عن إعداد خطة طوارئ للمدينة، مؤكدا أن أولوية الحكومة تشغيل الموانئ وتحسين الخدمات. موضحا ان فريقاً فنياً متخصصاً وصل من الإمارات لإعادة تشغيل المطار خلال أربع وعشرين ساعة واستئناف الرحلات من وإلى عدن خلال الساعات المقبلة. داعيا المنظمات الحقوقية والاعلاميين للقدومِ الى عدن لرصد المآسي التي ارتكبها المتمردون، مؤكداً ان الحكومة ستؤمن لهم رحلات من أي مطار في العالم.\\n\\n من جانبه، قال المتحدث الرسمي باسم الحكومة اليمنية راجح بادي، إن حجم الدمار في عدن لم يكن متوقعاً، لا سيما الذي طال البنى التحتية؛ فمطار عدن على سبيل المثال، مدمر بشكل شبه كامل، ومحطات توليد الكهرباء والمنشآت النفطية تعرضت هي الأخرى أكثر من مرة للقصف من قبل الحوثيين، حيث كانوا حينها يريدون الضغط على المقاومة الشعبية من خلال منعها من الحصول على المحروقات. وهو ما لم ينجحوا فيه. مبينا انه سيحتاج إعادة تأهيلها لمبالغ كبيرة وأشهر من العمل.',\n",
       "       'وافق مجلس الأمن الدولي، اليوم (الاثنين)، على اتفاق يحد من برنامج ايران النووي مقابل تخفيف العقوبات على طهران، لكن سيكون بامكان معاودة فرض عقوبات الامم المتحدة خلال العقد المقبل اذا انتهكت إيران الاتفاق التاريخي.\\n\\n ووافق المجلس المؤلف من 15 دولة على قرار جرى التفاوض عليه في اطار الاتفاق الذي أبرم في فيينا الاسبوع الماضي بين ايران والقوى الست الدولية.\\n\\n وفي تطور لاحق، نقلت وكالة تسنيم الايرانية للانباء عن محمد علي جعفري قائد الحرس الثوري الايراني، قوله ان قرار مجلس الامن الدولي الذي جرى تمريره اليوم، ويقر الاتفاق النووي الايراني غير مقبول. مضيفا \"قبل وقت قصير من تمرير القرار في نيويورك، بعض أجزاء المسودة تجاوزت بوضوح الخطوط الحمراء لإيران، خاصة ما يتعلق بقدرات ايران العسكرية ولن نقبله أبدا\".',\n",
       "       ...,\n",
       "       ' الرياض 26 شوال 1436 هـ الموافق 11 أغسطس 2015 م واس\\n استقبل معالي المستشار بالديوان الملكي المشرف العام على مركز الملك سلمان للإغاثة والأعمال الإنسانية الدكتور عبدالله بن عبدالعزيز الربيعة اليوم, الأمين العام لهيئة الإغاثة الإسلامية العالمية التابعة لرابطة العالم الإسلامي إحسان بن صالح طيب .\\n وشاهد الطيب خلال الاستقبال الأعمال التي قدمها المركز في دعمه للمتضررين باليمن وإعادته العالقين اليمنيين من عدة بلدان , بالإضافة إلى الأعمال الإغاثية والإنسانية والاتفاقيات التي عقدها المركز مع عدد من الجهات الدولية والإقليمية.\\n كما ناقش اللقاء الذي حضره مسؤولو المركز العديد من الموضوعات, والتطلع لإقامة شراكة مع الهيئة العالمية للإغاثة الإسلامية , وتبادل الخبرات فيما بين الجانبين.\\n وفي نهاية اللقاء تسلم الدكتور الربيعة هدية تذكارية من الأمين العام لهيئة الإغاثة الإسلامية بمناسبة زيارته للمركز.\\n // انتهى //\\n 14:59 ت م \\n ',\n",
       "       ' الرياض 26 شوال 1436 هـ الموافق 11 أغسطس 2015 م واس\\n يخوض المنتخب السعودي للكرة الطائرة مواجهته المرتقبة مع نظيره المنتخب الجزائري غداً الأربعاء ضمن منافسات دور الـ 8 للبطولة العربية الـ13 لكرة الطائرة للناشئين التي تقام في العاصمة المغربية الرباط .\\n ويعد لقاء الغد من أقوى وأصعب مواجهات دور الثمانية , ومن المتوقع أن تظهر المواجهة بمستوى فني كبير نظراً لأهميتها فالفائز سيتأهل إلى الدور نصف النهائي .\\n // انتهى //\\n 14:58 ت م \\n ',\n",
       "       ' إسلام آباد 26 شوال 1436 هـ الموافق 11 اغسطس 2015 م واس\\n أغلق مؤشر بورصة كراتشي كبرى أسواق الأسهم الباكستانية اليوم على ارتفاع بنسبة 0.34% أي ما يعادل 121 نقطة، وأقفل عند مستوى 36205 نقطة.\\n وبلغت كمية التداول 139.153.090 سهماً نفذت من خلال 387 صفقة ارتفعت خلالها القيمة السوقية لأسهم 200 شركة وتراجعت قيمة أسهم 159 شركة مع استقرار قيمة أسهم 28 شركة.\\n // انتهى //\\n 14:58 ت م \\n '],\n",
       "      dtype=object)"
      ]
     },
     "execution_count": 11,
     "metadata": {},
     "output_type": "execute_result"
    }
   ],
   "source": [
    "df.content.unique()"
   ]
  },
  {
   "cell_type": "code",
   "execution_count": 12,
   "id": "9dbbe880",
   "metadata": {},
   "outputs": [
    {
     "data": {
      "text/plain": [
       "130"
      ]
     },
     "execution_count": 12,
     "metadata": {},
     "output_type": "execute_result"
    }
   ],
   "source": [
    "df.content.isna().sum()"
   ]
  },
  {
   "cell_type": "code",
   "execution_count": 13,
   "id": "0fb62b38",
   "metadata": {},
   "outputs": [],
   "source": [
    "df= df.dropna(subset= ['content'])"
   ]
  },
  {
   "cell_type": "code",
   "execution_count": 14,
   "id": "b9d88f85",
   "metadata": {},
   "outputs": [
    {
     "data": {
      "text/plain": [
       "0"
      ]
     },
     "execution_count": 14,
     "metadata": {},
     "output_type": "execute_result"
    }
   ],
   "source": [
    "df.content.isna().sum()"
   ]
  },
  {
   "cell_type": "code",
   "execution_count": 30,
   "id": "c8f129d8",
   "metadata": {},
   "outputs": [],
   "source": [
    "import re #For Regex\n",
    "\n",
    "# adapted from https://github.com/bakrianoo/aravec\n",
    "# function to clean and normalize text \n",
    "def clean_text(text):\n",
    "    search = [\"أ\",\"إ\",\"آ\",\"ة\",\"_\",\"-\",\"/\",\".\",\"،\",\" و \",\" يا \",'\"',\"ـ\",\"'\",\"ى\",\"\\\\\",'\\n', '\\t','&quot;','?','؟','!']\n",
    "    replace = [\"ا\",\"ا\",\"ا\",\"ه\",\" \",\" \",\"\",\"\",\"\",\" و\",\" يا\",\"\",\"\",\"\",\"ي\",\"\",' ', ' ',' ',' ? ',' ؟ ',' ! ']  \n",
    "    p_tashkeel = re.compile(r'[\\u0617-\\u061A\\u064B-\\u0652]')\n",
    "    text = re.sub(p_tashkeel,\"\", text)\n",
    "    p_longation = re.compile(r'(.)\\1+')\n",
    "    subst = r\"\\1\\1\"\n",
    "    text = re.sub(p_longation, subst, text)\n",
    "    text = text.replace('وو', 'و')\n",
    "    text = text.replace('يي', 'ي')\n",
    "    text = text.replace('اا', 'ا')\n",
    "    \n",
    "    for i in range(0, len(search)):\n",
    "        text = text.replace(search[i], replace[i])\n",
    "        \n",
    "    text = text.strip()\n",
    "    \n",
    "    return text"
   ]
  },
  {
   "cell_type": "code",
   "execution_count": 31,
   "id": "262bcf05",
   "metadata": {},
   "outputs": [],
   "source": [
    "data = df['content']\n",
    "\n",
    "data['cleaned_1'] = data.apply(lambda x: clean_text(x))"
   ]
  },
  {
   "cell_type": "code",
   "execution_count": 32,
   "id": "936ce6d3",
   "metadata": {},
   "outputs": [
    {
     "data": {
      "text/plain": [
       "0     حدد رءيس الوزراء البريطاني ديفيد كاميرون اليوم...\n",
       "1     اصدر الرءيس عبدربه منصور هادي رءيس الجمهوريه ا...\n",
       "2     وافق مجلس الامن الدولي اليوم الاثنين علي اتفاق...\n",
       "3     قال مسءولون افغان ان 4 جنديا افغانيا قتلوا حاد...\n",
       "4     اعلنت وزاره الخارجيه الايطاليه اليوم الاثنين ا...\n",
       "5     ارتكبت الميليشيات الحوثيه مجزره مدينه عدن جنوب...\n",
       "6     تحد جديد للكونغرس الاميركي رفض الرءيس باراك او...\n",
       "7     افاق سكان حي الشيخ رضوان وشارع النفق وسط مدينه...\n",
       "8     تحول «فقهاء» وقاده تنظيم داعش ليبيا الي نوع جد...\n",
       "9     وسط تفاقم ازمات الكهرباء والماء السودان لوحت ح...\n",
       "10    عقد اعضاء الحكومه اليمنيه ومسءولون امنيون للمر...\n",
       "11    سددت قوات الامن السعوديه ضربات قاصمه للارهاب ا...\n",
       "12    صعد المرشد الاعلي الايراني ايه الله علي خامنءي...\n",
       "13    شيع النظام السوري امس جثمان اللواء محسن مخلوف ...\n",
       "14    تفحص السلطات الماليه الاميركيه سلوك عدد الشركا...\n",
       "15    تحرير المقاومه المواليه للحكومه اليمنيه الشرعي...\n",
       "16    يسعي المحققون الاميركيون لتحديد السبب دفع بالش...\n",
       "17    خطوه عدها محللون محاوله خصوم الرءيس الاميركي ل...\n",
       "18    شهدت محافظتا ادلب وحلب سوريا مجزرتين اول ايام ...\n",
       "19    بينما تضاربت الانباء حول دواعي توقف معارك الان...\n",
       "Name: content, dtype: object"
      ]
     },
     "execution_count": 32,
     "metadata": {},
     "output_type": "execute_result"
    }
   ],
   "source": [
    "data.head(20)"
   ]
  },
  {
   "cell_type": "code",
   "execution_count": 33,
   "id": "aa5fae7d",
   "metadata": {},
   "outputs": [],
   "source": [
    "\n",
    "import string\n",
    "\n",
    "arabic_punctuations = '''`÷×؛<>_()*&^%][ـ،/:\"؟.,'{}~¦+|!”…“–ـ'''\n",
    "english_punctuations = string.punctuation\n",
    "punctuations_list = arabic_punctuations + english_punctuations\n",
    "\n",
    "arabic_diacritics = re.compile(\"\"\"\n",
    "                             ّ    | # Tashdid\n",
    "                             َ    | # Fatha\n",
    "                             ً    | # Tanwin Fath\n",
    "                             ُ    | # Damma\n",
    "                             ٌ    | # Tanwin Damm\n",
    "                             ِ    | # Kasra\n",
    "                             ٍ    | # Tanwin Kasr\n",
    "                             ْ    | # Sukun\n",
    "                             ـ     # Tatwil/Kashida\n",
    "                         \"\"\", re.VERBOSE)\n",
    "\n",
    "\n",
    "def normalize_arabic(text):\n",
    "    text = re.sub(\"[إأآا]\", \"ا\", text)\n",
    "    text = re.sub(\"ى\", \"ي\", text)\n",
    "    text = re.sub(\"ؤ\", \"ء\", text)\n",
    "    text = re.sub(\"ئ\", \"ء\", text)\n",
    "    text = re.sub(\"ة\", \"ه\", text)\n",
    "    text = re.sub(\"گ\", \"ك\", text)\n",
    "    return text\n",
    "\n",
    "\n",
    "def remove_diacritics(text):\n",
    "    text = re.sub(arabic_diacritics, '', text)\n",
    "    return text\n",
    "\n",
    "\n",
    "def remove_punctuations(text):\n",
    "    translator = str.maketrans('', '', punctuations_list)\n",
    "    return text.translate(translator)\n",
    "\n",
    "\n",
    "def remove_repeating_char(text):\n",
    "    return re.sub(r'(.)\\1+', r'\\1', text)"
   ]
  },
  {
   "cell_type": "code",
   "execution_count": 34,
   "id": "7ca807a3",
   "metadata": {},
   "outputs": [
    {
     "name": "stderr",
     "output_type": "stream",
     "text": [
      "<ipython-input-34-26467622e5f4>:2: SettingWithCopyWarning: \n",
      "A value is trying to be set on a copy of a slice from a DataFrame\n",
      "\n",
      "See the caveats in the documentation: https://pandas.pydata.org/pandas-docs/stable/user_guide/indexing.html#returning-a-view-versus-a-copy\n",
      "  data['cleaned_2'] = data['cleaned_1'].apply(lambda x: remove_punctuations(x))\n"
     ]
    },
    {
     "data": {
      "text/plain": [
       "0    حدد رءيس الوزراء البريطاني ديفيد كاميرون اليوم...\n",
       "1    اصدر الرءيس عبدربه منصور هادي رءيس الجمهوريه ا...\n",
       "2    وافق مجلس الامن الدولي اليوم الاثنين علي اتفاق...\n",
       "3    قال مسءولون افغان ان 4 جنديا افغانيا قتلوا حاد...\n",
       "4    اعلنت وزاره الخارجيه الايطاليه اليوم الاثنين ا...\n",
       "5    ارتكبت الميليشيات الحوثيه مجزره مدينه عدن جنوب...\n",
       "6    تحد جديد للكونغرس الاميركي رفض الرءيس باراك او...\n",
       "7    افاق سكان حي الشيخ رضوان وشارع النفق وسط مدينه...\n",
       "8    تحول «فقهاء» وقاده تنظيم داعش ليبيا الي نوع جد...\n",
       "9    وسط تفاقم ازمات الكهرباء والماء السودان لوحت ح...\n",
       "Name: content, dtype: object"
      ]
     },
     "execution_count": 34,
     "metadata": {},
     "output_type": "execute_result"
    }
   ],
   "source": [
    "#Remove Punctuation\n",
    "data['cleaned_2'] = data['cleaned_1'].apply(lambda x: remove_punctuations(x))\n",
    "data['cleaned_2'].head(10)"
   ]
  },
  {
   "cell_type": "code",
   "execution_count": 35,
   "id": "155671be",
   "metadata": {},
   "outputs": [
    {
     "name": "stderr",
     "output_type": "stream",
     "text": [
      "<ipython-input-35-381df97760c3>:1: FutureWarning: The default value of regex will change from True to False in a future version.\n",
      "  data['cleaned_3'] = data['cleaned_2'].str.replace('\\d+', '')\n",
      "<ipython-input-35-381df97760c3>:1: SettingWithCopyWarning: \n",
      "A value is trying to be set on a copy of a slice from a DataFrame\n",
      "\n",
      "See the caveats in the documentation: https://pandas.pydata.org/pandas-docs/stable/user_guide/indexing.html#returning-a-view-versus-a-copy\n",
      "  data['cleaned_3'] = data['cleaned_2'].str.replace('\\d+', '')\n"
     ]
    },
    {
     "data": {
      "text/plain": [
       "0    حدد رءيس الوزراء البريطاني ديفيد كاميرون اليوم...\n",
       "1    اصدر الرءيس عبدربه منصور هادي رءيس الجمهوريه ا...\n",
       "2    وافق مجلس الامن الدولي اليوم الاثنين علي اتفاق...\n",
       "3    قال مسءولون افغان ان  جنديا افغانيا قتلوا حادث...\n",
       "4    اعلنت وزاره الخارجيه الايطاليه اليوم الاثنين ا...\n",
       "5    ارتكبت الميليشيات الحوثيه مجزره مدينه عدن جنوب...\n",
       "6    تحد جديد للكونغرس الاميركي رفض الرءيس باراك او...\n",
       "7    افاق سكان حي الشيخ رضوان وشارع النفق وسط مدينه...\n",
       "8    تحول «فقهاء» وقاده تنظيم داعش ليبيا الي نوع جد...\n",
       "9    وسط تفاقم ازمات الكهرباء والماء السودان لوحت ح...\n",
       "Name: content, dtype: object"
      ]
     },
     "execution_count": 35,
     "metadata": {},
     "output_type": "execute_result"
    }
   ],
   "source": [
    "data['cleaned_3'] = data['cleaned_2'].str.replace('\\d+', '')\n",
    "data['cleaned_3'].head(10)"
   ]
  },
  {
   "cell_type": "code",
   "execution_count": null,
   "id": "39f62670",
   "metadata": {},
   "outputs": [],
   "source": []
  },
  {
   "cell_type": "code",
   "execution_count": null,
   "id": "3a8b6730",
   "metadata": {},
   "outputs": [],
   "source": []
  }
 ],
 "metadata": {
  "kernelspec": {
   "display_name": "Python 3",
   "language": "python",
   "name": "python3"
  },
  "language_info": {
   "codemirror_mode": {
    "name": "ipython",
    "version": 3
   },
   "file_extension": ".py",
   "mimetype": "text/x-python",
   "name": "python",
   "nbconvert_exporter": "python",
   "pygments_lexer": "ipython3",
   "version": "3.8.8"
  }
 },
 "nbformat": 4,
 "nbformat_minor": 5
}
